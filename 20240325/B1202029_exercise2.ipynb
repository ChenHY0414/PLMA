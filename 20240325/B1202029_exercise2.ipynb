{
  "cells": [
    {
      "cell_type": "code",
      "source": [
        "a={'姓名':'賴宏瑋','性別':'男','作業分數':[80,95,100,90]}\n",
        "a['學號']='M1129020'\n",
        "a['作業分數'][1]=100\n",
        "del a['作業分數'][0]\n",
        "print(a)\n",
        "作業分數 = a['作業分數']\n",
        "平均分數 = sum(作業分數)/len(作業分數)\n",
        "print('平均分數',平均分數)"
      ],
      "metadata": {
        "id": "uV1BiRLegIz8",
        "outputId": "00f29710-88c6-475e-8b71-e787b675ca93",
        "colab": {
          "base_uri": "https://localhost:8080/"
        }
      },
      "execution_count": 3,
      "outputs": [
        {
          "output_type": "stream",
          "name": "stdout",
          "text": [
            "{'姓名': '賴宏瑋', '性別': '男', '作業分數': [100, 100, 90], '學號': 'M1129020'}\n",
            "平均分數 96.66666666666667\n"
          ]
        }
      ]
    }
  ],
  "metadata": {
    "colab": {
      "name": "歡迎使用 Colaboratory",
      "provenance": []
    },
    "kernelspec": {
      "display_name": "Python 3",
      "name": "python3"
    }
  },
  "nbformat": 4,
  "nbformat_minor": 0
}