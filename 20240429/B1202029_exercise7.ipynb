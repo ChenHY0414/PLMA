{
  "cells": [
    {
      "cell_type": "code",
      "source": [
        "def height(x):\n",
        "  if x>=7:\n",
        "    for a in range(x):\n",
        "        print((\" \" * (x-a)) + (\"*\"*(2*a+1)))\n",
        "    if a == (x - 1):\n",
        "        for b in range(5):\n",
        "            print((\" \" * (x - 1) )+ \"*\" * 3)\n",
        "  else:\n",
        "    print('輸入層數至少7層')\n",
        "height(int(input(\"聖誕樹層數：\")))\n"
      ],
      "metadata": {
        "id": "1FfwsntDwrbD",
        "outputId": "8b928b87-d002-49e2-97e6-f99aa098f523",
        "colab": {
          "base_uri": "https://localhost:8080/"
        }
      },
      "execution_count": null,
      "outputs": [
        {
          "output_type": "stream",
          "name": "stdout",
          "text": [
            "聖誕樹層數：9\n",
            "         *\n",
            "        ***\n",
            "       *****\n",
            "      *******\n",
            "     *********\n",
            "    ***********\n",
            "   *************\n",
            "  ***************\n",
            " *****************\n",
            "        ***\n",
            "        ***\n",
            "        ***\n",
            "        ***\n",
            "        ***\n"
          ]
        }
      ]
    },
    {
      "cell_type": "code",
      "source": [
        "\n",
        "def BMI(h,w) :\n",
        "  result=w/(h/100)**2\n",
        "  return result\n",
        "try:\n",
        "  w=float(input('輸入體重(kg):'))\n",
        "  h=float(input('輸入身高(cm):'))\n",
        "  print (BMI(h,w))\n",
        "  if BMI(h,w) <18.5:\n",
        "   print('體位：過輕')\n",
        "  elif 18.5<=BMI(h, w) <24:\n",
        "   print('體位：適中')\n",
        "  elif 24<=BMI(h,w) <27:\n",
        "   print('體位：過重')\n",
        "  else:\n",
        "   print('體位：肥胖')\n",
        "except:\n",
        " print(\"輸入內容錯誤\")\n",
        "\n"
      ],
      "metadata": {
        "id": "oPx3XM-KxAQM",
        "outputId": "90883d5e-f1ac-49d6-854e-349e7c7aac49",
        "colab": {
          "base_uri": "https://localhost:8080/"
        }
      },
      "execution_count": null,
      "outputs": [
        {
          "output_type": "stream",
          "name": "stdout",
          "text": [
            "輸入體重(kg):55\n",
            "輸入身高(cm):175\n",
            "17.959183673469386\n",
            "體位：過輕\n"
          ]
        }
      ]
    },
    {
      "cell_type": "code",
      "source": [],
      "metadata": {
        "id": "fq-u4o6l1Xmc"
      },
      "execution_count": null,
      "outputs": []
    }
  ],
  "metadata": {
    "colab": {
      "provenance": []
    },
    "kernelspec": {
      "display_name": "Python 3",
      "name": "python3"
    }
  },
  "nbformat": 4,
  "nbformat_minor": 0
}