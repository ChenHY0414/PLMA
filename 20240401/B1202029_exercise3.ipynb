{
  "cells": [
    {
      "cell_type": "code",
      "source": [
        "a={'姓名':'賴宏瑋','性別':'男','作業分數':[95,100,90]}\n",
        "b={'學號':'M1129020'}\n",
        "c={**a,**b}\n",
        "import copy\n",
        "d=copy.deepcopy(c)\n",
        "c['作業分數'][1]=80\n",
        "d['姓名']='許珈綺'\n",
        "d['性別']='女'\n",
        "d['學號']='M1229001'\n",
        "e=c.pop('作業分數',[])\n",
        "f=(e[0]+e[1]+e[2])/3\n",
        "print('作業平均分數:',f)\n",
        "print('字典三:',c)\n",
        "g=d.pop('作業分數',[])\n",
        "h=(g[0]+g[1]+g[2])/3\n",
        "print('作業平均分數:',h)\n",
        "print('字典四:',d)"
      ],
      "metadata": {
        "id": "QiWglrywe5wX",
        "outputId": "f34dac0a-b09e-4c31-b424-dae9445f3030",
        "colab": {
          "base_uri": "https://localhost:8080/"
        }
      },
      "execution_count": 3,
      "outputs": [
        {
          "output_type": "stream",
          "name": "stdout",
          "text": [
            "作業平均分數: 88.33333333333333\n",
            "字典三: {'姓名': '賴宏瑋', '性別': '男', '學號': 'M1129020'}\n",
            "作業平均分數: 95.0\n",
            "字典四: {'姓名': '許珈綺', '性別': '女', '學號': 'M1229001'}\n"
          ]
        }
      ]
    },
    {
      "cell_type": "code",
      "source": [
        "a=[100,50,45,60,90,95,80,50]\n",
        "a.insert(0,88)\n",
        "a[2:5]=[70.50]*3\n",
        "a.remove(50)\n",
        "b=a.pop(0)+a.pop(-1)\n",
        "print(b)"
      ],
      "metadata": {
        "id": "iQIt5cJkikpu",
        "outputId": "bdd540a8-3041-4a22-cbfe-4c56637059a6",
        "colab": {
          "base_uri": "https://localhost:8080/"
        }
      },
      "execution_count": 4,
      "outputs": [
        {
          "output_type": "stream",
          "name": "stdout",
          "text": [
            "168\n"
          ]
        }
      ]
    },
    {
      "cell_type": "code",
      "source": [
        "a=347//3\n",
        "b=347%3\n",
        "r=a**b\n",
        "print('A的B次方:',r)\n"
      ],
      "metadata": {
        "id": "McWD0fmfjIy3",
        "outputId": "de8d9580-e0a4-47e0-c391-c18e08bd3ac6",
        "colab": {
          "base_uri": "https://localhost:8080/"
        }
      },
      "execution_count": 5,
      "outputs": [
        {
          "output_type": "stream",
          "name": "stdout",
          "text": [
            "A的B次方: 13225\n"
          ]
        }
      ]
    }
  ],
  "metadata": {
    "colab": {
      "toc_visible": true,
      "provenance": []
    },
    "kernelspec": {
      "display_name": "Python 3",
      "name": "python3"
    }
  },
  "nbformat": 4,
  "nbformat_minor": 0
}