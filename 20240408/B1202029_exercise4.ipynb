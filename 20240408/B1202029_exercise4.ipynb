{
  "cells": [
    {
      "cell_type": "code",
      "source": [
        "a=float(input('身高(公分):'))\n",
        "b=float(input('體重(公斤):'))\n",
        "BMI=b/(0.01*a)**2\n",
        "print('BMI:',BMI)\n",
        "if BMI<18.5:\n",
        "  print('過輕')\n",
        "elif 18.5<=BMI<24:\n",
        "  print('適中')\n",
        "elif 24<=BMI<27:\n",
        "  print('過重')\n",
        "else:print('肥胖')\n"
      ],
      "metadata": {
        "id": "8wAkmsNSjhpo",
        "outputId": "d5101b80-37aa-40bf-f186-627555715e59",
        "colab": {
          "base_uri": "https://localhost:8080/"
        }
      },
      "execution_count": null,
      "outputs": [
        {
          "output_type": "stream",
          "name": "stdout",
          "text": [
            "身高(公分):180\n",
            "體重(公斤):70\n",
            "BMI: 21.604938271604937\n",
            "適中\n"
          ]
        }
      ]
    },
    {
      "cell_type": "code",
      "source": [
        "a=float(input('請輸入第一個數字:'))\n",
        "b=input('請輸入運算符號:')\n",
        "c=float(input('請輸入第二個數字:'))\n",
        "\n",
        "if b=='+':\n",
        "  d=a+c\n",
        "elif b=='-':\n",
        "  d=a-c\n",
        "elif b=='*':\n",
        "  d=a*c\n",
        "elif b=='/':\n",
        "  if c!=0:\n",
        "    d=a/c\n",
        "  else:\n",
        "   print('錯誤:除數不能為0')\n",
        "else:print('錯誤:運算符號無效')\n",
        "print(d)"
      ],
      "metadata": {
        "id": "JksbXR1Lm0Ep",
        "outputId": "f5264d2e-4bca-4bf5-8e0e-66a90933450f",
        "colab": {
          "base_uri": "https://localhost:8080/"
        }
      },
      "execution_count": null,
      "outputs": [
        {
          "output_type": "stream",
          "name": "stdout",
          "text": [
            "請輸入第一個數字:5\n",
            "請輸入運算符號:/\n",
            "請輸入第二個數字:2\n",
            "2.5\n"
          ]
        }
      ]
    }
  ],
  "metadata": {
    "colab": {
      "toc_visible": true,
      "provenance": []
    },
    "kernelspec": {
      "display_name": "Python 3",
      "name": "python3"
    }
  },
  "nbformat": 4,
  "nbformat_minor": 0
}