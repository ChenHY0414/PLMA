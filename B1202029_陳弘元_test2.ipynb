{
  "cells": [
    {
      "cell_type": "code",
      "source": [],
      "metadata": {
        "id": "-gRA88-VapDQ"
      },
      "execution_count": null,
      "outputs": []
    },
    {
      "cell_type": "code",
      "source": [
        "x = 2\n",
        "y = 1\n",
        "m = 2*x+y\n",
        "n = 100-y\n",
        "print(m*n)"
      ],
      "metadata": {
        "id": "GUBgvLsEa5kH",
        "outputId": "1eb2ab30-396d-4714-bd8a-7dd82fdb6d98",
        "colab": {
          "base_uri": "https://localhost:8080/"
        }
      },
      "execution_count": null,
      "outputs": [
        {
          "output_type": "stream",
          "name": "stdout",
          "text": [
            "495\n"
          ]
        }
      ]
    },
    {
      "cell_type": "code",
      "source": [
        "y = 4\n",
        "p = 2*y+1\n",
        "print(100/p)"
      ],
      "metadata": {
        "id": "ombf0wuRbCmv",
        "outputId": "bedba570-c39d-4094-ff10-fe0e1bb4a31d",
        "colab": {
          "base_uri": "https://localhost:8080/"
        }
      },
      "execution_count": null,
      "outputs": [
        {
          "output_type": "stream",
          "name": "stdout",
          "text": [
            "11.11111111111111\n"
          ]
        }
      ]
    }
  ],
  "metadata": {
    "colab": {
      "toc_visible": true,
      "provenance": []
    },
    "kernelspec": {
      "display_name": "Python 3",
      "name": "python3"
    }
  },
  "nbformat": 4,
  "nbformat_minor": 0
}